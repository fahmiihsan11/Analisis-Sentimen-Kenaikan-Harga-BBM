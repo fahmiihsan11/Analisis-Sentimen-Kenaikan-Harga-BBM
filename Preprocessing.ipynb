{
 "cells": [
  {
   "cell_type": "code",
   "execution_count": 1,
   "id": "1ccf325e",
   "metadata": {},
   "outputs": [],
   "source": [
    "# !pip install nltk\n",
    "# !pip install Sastrawi\n",
    "# nltk.download('punkt')\n",
    "# nltk.download('stopwords')"
   ]
  },
  {
   "cell_type": "code",
   "execution_count": 2,
   "id": "1d4a39b8",
   "metadata": {},
   "outputs": [
    {
     "data": {
      "text/plain": [
       "(546, 2)"
      ]
     },
     "execution_count": 2,
     "metadata": {},
     "output_type": "execute_result"
    }
   ],
   "source": [
    "import re\n",
    "import string\n",
    "import numpy as np\n",
    "import pandas as pd\n",
    "from nltk import word_tokenize\n",
    "from nltk.corpus import stopwords\n",
    "from nltk.probability import FreqDist\n",
    "from Sastrawi.Stemmer.StemmerFactory import StemmerFactory\n",
    "\n",
    "df_labeled = pd.read_csv('data_labeled.csv')\n",
    "# df_labeled.head()\n",
    "df_labeled.shape"
   ]
  },
  {
   "cell_type": "code",
   "execution_count": 3,
   "id": "69e6302f",
   "metadata": {
    "scrolled": true
   },
   "outputs": [],
   "source": [
    "def cleansing(text):\n",
    "    text = ' '.join(re.sub(\"(@[A-Za-z0-9]+)|([^0-9A-Za-z \\t])|(\\w+:\\/\\/\\S+)\",\" \",text).split()) #rm hashtag, link, mention\n",
    "    text = text.replace('\\\\t',\" \").replace('\\\\n',\" \").replace('\\\\u',\" \").replace('\\\\',\"\")  #rm tab, new line, and back slice\n",
    "    text = text.encode('ascii', 'replace').decode('ascii')  #rm non ASCII (emoticon, chinese word, .etc)\n",
    "    text = re.sub(r\"\\d+\",\"\", text) #rm number\n",
    "    text = re.sub('\\s+',\" \", text) #rm multiple space\n",
    "    text = \"\".join([char for char in text if char not in string.punctuation]) #rm puctuation\n",
    "    return text\n",
    "    \n",
    "def case_folding(text):\n",
    "    text = text.lower()\n",
    "    return text\n",
    "    \n",
    "def tokenization(text):\n",
    "    token = word_tokenize(text)\n",
    "    text = token\n",
    "    return text\n",
    "\n",
    "def stopword_removal(text):\n",
    "    list_stopwords = stopwords.words('indonesian')\n",
    "    txt_stopword = pd.read_csv(\"add_stopwords.txt\", names= [\"stopwords\"], header = None)\n",
    "    list_stopwords.extend(txt_stopword[\"stopwords\"][0].split(' '))\n",
    "    text = [word for word in text if word not in list_stopwords]\n",
    "    return text\n",
    "\n",
    "def normalization(text):\n",
    "    normalizad_word_dict = {}\n",
    "    normalizad_word = pd.read_excel(\"add_normalization.xlsx\")\n",
    "    for index, row in normalizad_word.iterrows():\n",
    "        if row[0] not in normalizad_word_dict:\n",
    "            normalizad_word_dict[row[0]] = row[1]  \n",
    "    text = [normalizad_word_dict[word] if word in normalizad_word_dict else word for word in text]\n",
    "    return text\n",
    "\n",
    "def stemming(text):\n",
    "    factory = StemmerFactory()\n",
    "    stemmer = factory.create_stemmer()\n",
    "    text = [stemmer.stem(word) for word in text]\n",
    "    return text\n",
    "    \n",
    "df_preprocess = df_labeled\n",
    "df_preprocess['cleansing'] = df_preprocess['comments'].apply(cleansing)\n",
    "df_preprocess['casefolding'] = df_preprocess['cleansing'].apply(case_folding)\n",
    "df_preprocess['tokenization'] = df_preprocess['casefolding'].apply(tokenization)\n",
    "df_preprocess['stopword_removal'] = df_preprocess['tokenization'].apply(stopword_removal)\n",
    "df_preprocess['normalization'] = df_preprocess['stopword_removal'].apply(normalization)\n",
    "df_preprocess['stemming'] = df_preprocess['normalization'].apply(stemming)\n",
    "\n",
    "df_preprocessed = df_preprocess"
   ]
  },
  {
   "cell_type": "code",
   "execution_count": 22,
   "id": "cba913a8",
   "metadata": {},
   "outputs": [
    {
     "data": {
      "text/html": [
       "<div>\n",
       "<style scoped>\n",
       "    .dataframe tbody tr th:only-of-type {\n",
       "        vertical-align: middle;\n",
       "    }\n",
       "\n",
       "    .dataframe tbody tr th {\n",
       "        vertical-align: top;\n",
       "    }\n",
       "\n",
       "    .dataframe thead th {\n",
       "        text-align: right;\n",
       "    }\n",
       "</style>\n",
       "<table border=\"1\" class=\"dataframe\">\n",
       "  <thead>\n",
       "    <tr style=\"text-align: right;\">\n",
       "      <th></th>\n",
       "      <th>comments</th>\n",
       "      <th>label</th>\n",
       "      <th>cleansing</th>\n",
       "      <th>casefolding</th>\n",
       "      <th>tokenization</th>\n",
       "      <th>stopword_removal</th>\n",
       "      <th>normalization</th>\n",
       "      <th>stemming</th>\n",
       "      <th>target</th>\n",
       "    </tr>\n",
       "  </thead>\n",
       "  <tbody>\n",
       "    <tr>\n",
       "      <th>0</th>\n",
       "      <td>BBM NAIK, BANDINGKAN HARGANYA DENGAN SINGAPURA, MALAYSIA DAN BRUNEI-&amp;gt; &lt;a href=\"https://wow.tribunnews.com/2022/09/03/bbm-naik-berikut-perbandingan-harga-di-indonesia-dengan-singapura-malaysia-dan-brunei\"&gt;https://wow.tribunnews.com/2022/09/03/bbm-naik-berikut-perbandingan-harga-di-indonesia-dengan-singapura-malaysia-dan-brunei&lt;/a&gt;</td>\n",
       "      <td>negatif</td>\n",
       "      <td>BBM NAIK BANDINGKAN HARGANYA DENGAN SINGAPURA MALAYSIA DAN BRUNEI gt a href</td>\n",
       "      <td>bbm naik bandingkan harganya dengan singapura malaysia dan brunei gt a href</td>\n",
       "      <td>[bbm, naik, bandingkan, harganya, dengan, singapura, malaysia, dan, brunei, gt, a, href]</td>\n",
       "      <td>[bbm, bandingkan, harganya, singapura, malaysia, brunei]</td>\n",
       "      <td>[bbm, bandingkan, harganya, singapura, malaysia, brunei]</td>\n",
       "      <td>[bbm, banding, harga, singapura, malaysia, brunei]</td>\n",
       "      <td>0</td>\n",
       "    </tr>\n",
       "    <tr>\n",
       "      <th>1</th>\n",
       "      <td>Seng setuju mundak berarti goblok.&lt;br&gt;Jokowi kongkon melek.&lt;br&gt;Ngoros BBM isok malah blt tepat sasaran.</td>\n",
       "      <td>negatif</td>\n",
       "      <td>Seng setuju mundak berarti goblok br Jokowi kongkon melek br Ngoros BBM isok malah blt tepat sasaran</td>\n",
       "      <td>seng setuju mundak berarti goblok br jokowi kongkon melek br ngoros bbm isok malah blt tepat sasaran</td>\n",
       "      <td>[seng, setuju, mundak, berarti, goblok, br, jokowi, kongkon, melek, br, ngoros, bbm, isok, malah, blt, tepat, sasaran]</td>\n",
       "      <td>[seng, setuju, mundak, goblok, jokowi, kongkon, melek, ngoros, bbm, isok, blt, sasaran]</td>\n",
       "      <td>[kalau, setuju, bangkit, goblok, jokowi, terkirim, terpelajar, konsumsi, bbm, besok, blt, sasaran]</td>\n",
       "      <td>[kalau, tuju, bangkit, goblok, jokowi, kirim, ajar, konsumsi, bbm, besok, blt, sasar]</td>\n",
       "      <td>0</td>\n",
       "    </tr>\n",
       "    <tr>\n",
       "      <th>2</th>\n",
       "      <td>jokes standup kaka lucu sekali,&lt;br&gt; lapangan pekerjaan sama pendapatan masyarakatnya gak dilihat... 😭😭😭😭</td>\n",
       "      <td>negatif</td>\n",
       "      <td>jokes standup kaka lucu sekali br lapangan pekerjaan sama pendapatan masyarakatnya gak dilihat</td>\n",
       "      <td>jokes standup kaka lucu sekali br lapangan pekerjaan sama pendapatan masyarakatnya gak dilihat</td>\n",
       "      <td>[jokes, standup, kaka, lucu, sekali, br, lapangan, pekerjaan, sama, pendapatan, masyarakatnya, gak, dilihat]</td>\n",
       "      <td>[jokes, standup, kaka, lucu, lapangan, pekerjaan, pendapatan, masyarakatnya, gak]</td>\n",
       "      <td>[canda, standup, kakak, lucu, lapangan, pekerjaan, pendapatan, masyarakatnya, tidak]</td>\n",
       "      <td>[canda, standup, kakak, lucu, lapang, kerja, dapat, masyarakat, tidak]</td>\n",
       "      <td>0</td>\n",
       "    </tr>\n",
       "    <tr>\n",
       "      <th>3</th>\n",
       "      <td>Kok yo dibanding bandike sama UMR besar woy</td>\n",
       "      <td>negatif</td>\n",
       "      <td>Kok yo dibanding bandike sama UMR besar woy</td>\n",
       "      <td>kok yo dibanding bandike sama umr besar woy</td>\n",
       "      <td>[kok, yo, dibanding, bandike, sama, umr, besar, woy]</td>\n",
       "      <td>[yo, dibanding, bandike]</td>\n",
       "      <td>[ya, dibanding, banding]</td>\n",
       "      <td>[ya, banding, banding]</td>\n",
       "      <td>0</td>\n",
       "    </tr>\n",
       "    <tr>\n",
       "      <th>4</th>\n",
       "      <td>Gagal total jokowi</td>\n",
       "      <td>negatif</td>\n",
       "      <td>Gagal total jokowi</td>\n",
       "      <td>gagal total jokowi</td>\n",
       "      <td>[gagal, total, jokowi]</td>\n",
       "      <td>[gagal, total, jokowi]</td>\n",
       "      <td>[gagal, total, jokowi]</td>\n",
       "      <td>[gagal, total, jokowi]</td>\n",
       "      <td>0</td>\n",
       "    </tr>\n",
       "  </tbody>\n",
       "</table>\n",
       "</div>"
      ],
      "text/plain": [
       "                                                                                                                                                                                                                                                                                                                                         comments  \\\n",
       "0  BBM NAIK, BANDINGKAN HARGANYA DENGAN SINGAPURA, MALAYSIA DAN BRUNEI-&gt; <a href=\"https://wow.tribunnews.com/2022/09/03/bbm-naik-berikut-perbandingan-harga-di-indonesia-dengan-singapura-malaysia-dan-brunei\">https://wow.tribunnews.com/2022/09/03/bbm-naik-berikut-perbandingan-harga-di-indonesia-dengan-singapura-malaysia-dan-brunei</a>   \n",
       "1                                                                                                                                                                                                                                         Seng setuju mundak berarti goblok.<br>Jokowi kongkon melek.<br>Ngoros BBM isok malah blt tepat sasaran.   \n",
       "2                                                                                                                                                                                                                                        jokes standup kaka lucu sekali,<br> lapangan pekerjaan sama pendapatan masyarakatnya gak dilihat... 😭😭😭😭   \n",
       "3                                                                                                                                                                                                                                                                                                     Kok yo dibanding bandike sama UMR besar woy   \n",
       "4                                                                                                                                                                                                                                                                                                                              Gagal total jokowi   \n",
       "\n",
       "     label  \\\n",
       "0  negatif   \n",
       "1  negatif   \n",
       "2  negatif   \n",
       "3  negatif   \n",
       "4  negatif   \n",
       "\n",
       "                                                                                              cleansing  \\\n",
       "0                           BBM NAIK BANDINGKAN HARGANYA DENGAN SINGAPURA MALAYSIA DAN BRUNEI gt a href   \n",
       "1  Seng setuju mundak berarti goblok br Jokowi kongkon melek br Ngoros BBM isok malah blt tepat sasaran   \n",
       "2        jokes standup kaka lucu sekali br lapangan pekerjaan sama pendapatan masyarakatnya gak dilihat   \n",
       "3                                                           Kok yo dibanding bandike sama UMR besar woy   \n",
       "4                                                                                    Gagal total jokowi   \n",
       "\n",
       "                                                                                            casefolding  \\\n",
       "0                           bbm naik bandingkan harganya dengan singapura malaysia dan brunei gt a href   \n",
       "1  seng setuju mundak berarti goblok br jokowi kongkon melek br ngoros bbm isok malah blt tepat sasaran   \n",
       "2        jokes standup kaka lucu sekali br lapangan pekerjaan sama pendapatan masyarakatnya gak dilihat   \n",
       "3                                                           kok yo dibanding bandike sama umr besar woy   \n",
       "4                                                                                    gagal total jokowi   \n",
       "\n",
       "                                                                                                             tokenization  \\\n",
       "0                                [bbm, naik, bandingkan, harganya, dengan, singapura, malaysia, dan, brunei, gt, a, href]   \n",
       "1  [seng, setuju, mundak, berarti, goblok, br, jokowi, kongkon, melek, br, ngoros, bbm, isok, malah, blt, tepat, sasaran]   \n",
       "2            [jokes, standup, kaka, lucu, sekali, br, lapangan, pekerjaan, sama, pendapatan, masyarakatnya, gak, dilihat]   \n",
       "3                                                                    [kok, yo, dibanding, bandike, sama, umr, besar, woy]   \n",
       "4                                                                                                  [gagal, total, jokowi]   \n",
       "\n",
       "                                                                          stopword_removal  \\\n",
       "0                                 [bbm, bandingkan, harganya, singapura, malaysia, brunei]   \n",
       "1  [seng, setuju, mundak, goblok, jokowi, kongkon, melek, ngoros, bbm, isok, blt, sasaran]   \n",
       "2        [jokes, standup, kaka, lucu, lapangan, pekerjaan, pendapatan, masyarakatnya, gak]   \n",
       "3                                                                 [yo, dibanding, bandike]   \n",
       "4                                                                   [gagal, total, jokowi]   \n",
       "\n",
       "                                                                                        normalization  \\\n",
       "0                                            [bbm, bandingkan, harganya, singapura, malaysia, brunei]   \n",
       "1  [kalau, setuju, bangkit, goblok, jokowi, terkirim, terpelajar, konsumsi, bbm, besok, blt, sasaran]   \n",
       "2                [canda, standup, kakak, lucu, lapangan, pekerjaan, pendapatan, masyarakatnya, tidak]   \n",
       "3                                                                            [ya, dibanding, banding]   \n",
       "4                                                                              [gagal, total, jokowi]   \n",
       "\n",
       "                                                                                stemming  \\\n",
       "0                                     [bbm, banding, harga, singapura, malaysia, brunei]   \n",
       "1  [kalau, tuju, bangkit, goblok, jokowi, kirim, ajar, konsumsi, bbm, besok, blt, sasar]   \n",
       "2                 [canda, standup, kakak, lucu, lapang, kerja, dapat, masyarakat, tidak]   \n",
       "3                                                                 [ya, banding, banding]   \n",
       "4                                                                 [gagal, total, jokowi]   \n",
       "\n",
       "   target  \n",
       "0       0  \n",
       "1       0  \n",
       "2       0  \n",
       "3       0  \n",
       "4       0  "
      ]
     },
     "execution_count": 22,
     "metadata": {},
     "output_type": "execute_result"
    }
   ],
   "source": [
    "target = []\n",
    "for index, row in df_preprocessed.iterrows():\n",
    "    if row[\"label\"] == \"positif\":\n",
    "        target.append(1)\n",
    "    else:\n",
    "        target.append(0)\n",
    "        \n",
    "df_preprocessed['target'] = target\n",
    "df_preprocessed.head()"
   ]
  },
  {
   "cell_type": "code",
   "execution_count": 5,
   "id": "f7e9adf7",
   "metadata": {
    "scrolled": true
   },
   "outputs": [
    {
     "name": "stdout",
     "output_type": "stream",
     "text": [
      "Target:\n",
      "0    375\n",
      "1    171\n",
      "Name: target, dtype: int64\n"
     ]
    }
   ],
   "source": [
    "print('Target:')\n",
    "print(df_preprocessed[\"target\"].value_counts())"
   ]
  },
  {
   "cell_type": "code",
   "execution_count": 6,
   "id": "8195dcf2",
   "metadata": {
    "scrolled": true
   },
   "outputs": [],
   "source": [
    "samplePositive = df_preprocessed[df_preprocess['target']==1].sample(171, replace=True)\n",
    "sampleNegative = df_preprocessed[df_preprocess['target']==0].sample(171, replace=True)\n",
    "\n",
    "df_preprocessed_sample = pd.concat([samplePositive, sampleNegative])\n",
    "df_preprocessed_sample = df_preprocessed_sample.iloc[:, [7,8]]\n",
    "\n",
    "df_preprocessed_origin = df_preprocessed.iloc[:, [7,8]]"
   ]
  },
  {
   "cell_type": "code",
   "execution_count": 7,
   "id": "81860f30",
   "metadata": {},
   "outputs": [],
   "source": [
    "# df_preprocessed_origin.to_csv('data_preprocessed_origin.csv', index=False)\n",
    "# df_preprocessed_sample.to_csv('data_preprocessed_sample.csv', index=False)"
   ]
  },
  {
   "cell_type": "code",
   "execution_count": 8,
   "id": "358afedb",
   "metadata": {},
   "outputs": [],
   "source": [
    "# df_preprocessed.to_excel('data_preprocessed.xlsx', index=False)"
   ]
  },
  {
   "cell_type": "code",
   "execution_count": 9,
   "id": "935bb44c",
   "metadata": {},
   "outputs": [],
   "source": [
    "# df_preprocessed_sample.to_csv('data_preprocessed_sample_15-06-2023.csv', index=False)"
   ]
  },
  {
   "cell_type": "code",
   "execution_count": 10,
   "id": "89c449db",
   "metadata": {},
   "outputs": [],
   "source": [
    "pd.set_option('display.max_colwidth', None)"
   ]
  },
  {
   "cell_type": "code",
   "execution_count": 23,
   "id": "7bf50ee2",
   "metadata": {},
   "outputs": [
    {
     "data": {
      "text/html": [
       "<div>\n",
       "<style scoped>\n",
       "    .dataframe tbody tr th:only-of-type {\n",
       "        vertical-align: middle;\n",
       "    }\n",
       "\n",
       "    .dataframe tbody tr th {\n",
       "        vertical-align: top;\n",
       "    }\n",
       "\n",
       "    .dataframe thead th {\n",
       "        text-align: right;\n",
       "    }\n",
       "</style>\n",
       "<table border=\"1\" class=\"dataframe\">\n",
       "  <thead>\n",
       "    <tr style=\"text-align: right;\">\n",
       "      <th></th>\n",
       "      <th>comments</th>\n",
       "      <th>cleansing</th>\n",
       "      <th>casefolding</th>\n",
       "      <th>tokenization</th>\n",
       "      <th>stopword_removal</th>\n",
       "      <th>normalization</th>\n",
       "      <th>stemming</th>\n",
       "    </tr>\n",
       "  </thead>\n",
       "  <tbody>\n",
       "    <tr>\n",
       "      <th>236</th>\n",
       "      <td>Rakyat pada protes bbm naik karna selain harga bbmnya semakin mahal.sembako,dll juga pada naik harganya kalo bbm naik(biasanya).</td>\n",
       "      <td>Rakyat pada protes bbm naik karna selain harga bbmnya semakin mahal sembako dll juga pada naik harganya kalo bbm naik biasanya</td>\n",
       "      <td>rakyat pada protes bbm naik karna selain harga bbmnya semakin mahal sembako dll juga pada naik harganya kalo bbm naik biasanya</td>\n",
       "      <td>[rakyat, pada, protes, bbm, naik, karna, selain, harga, bbmnya, semakin, mahal, sembako, dll, juga, pada, naik, harganya, kalo, bbm, naik, biasanya]</td>\n",
       "      <td>[rakyat, protes, bbm, karna, harga, bbmnya, mahal, sembako, dll, harganya, kalo, bbm]</td>\n",
       "      <td>[rakyat, protes, bbm, karena, harga, bbmnya, mahal, sembako, lainnya, harganya, kalau, bbm]</td>\n",
       "      <td>[rakyat, protes, bbm, karena, harga, bbmnya, mahal, sembako, lain, harga, kalau, bbm]</td>\n",
       "    </tr>\n",
       "  </tbody>\n",
       "</table>\n",
       "</div>"
      ],
      "text/plain": [
       "                                                                                                                             comments  \\\n",
       "236  Rakyat pada protes bbm naik karna selain harga bbmnya semakin mahal.sembako,dll juga pada naik harganya kalo bbm naik(biasanya).   \n",
       "\n",
       "                                                                                                                          cleansing  \\\n",
       "236  Rakyat pada protes bbm naik karna selain harga bbmnya semakin mahal sembako dll juga pada naik harganya kalo bbm naik biasanya   \n",
       "\n",
       "                                                                                                                        casefolding  \\\n",
       "236  rakyat pada protes bbm naik karna selain harga bbmnya semakin mahal sembako dll juga pada naik harganya kalo bbm naik biasanya   \n",
       "\n",
       "                                                                                                                                             tokenization  \\\n",
       "236  [rakyat, pada, protes, bbm, naik, karna, selain, harga, bbmnya, semakin, mahal, sembako, dll, juga, pada, naik, harganya, kalo, bbm, naik, biasanya]   \n",
       "\n",
       "                                                                          stopword_removal  \\\n",
       "236  [rakyat, protes, bbm, karna, harga, bbmnya, mahal, sembako, dll, harganya, kalo, bbm]   \n",
       "\n",
       "                                                                                   normalization  \\\n",
       "236  [rakyat, protes, bbm, karena, harga, bbmnya, mahal, sembako, lainnya, harganya, kalau, bbm]   \n",
       "\n",
       "                                                                                  stemming  \n",
       "236  [rakyat, protes, bbm, karena, harga, bbmnya, mahal, sembako, lain, harga, kalau, bbm]  "
      ]
     },
     "execution_count": 23,
     "metadata": {},
     "output_type": "execute_result"
    }
   ],
   "source": [
    "df_preprocessed.loc[[236], ['comments','cleansing','casefolding','tokenization','stopword_removal','normalization', 'stemming']]"
   ]
  }
 ],
 "metadata": {
  "kernelspec": {
   "display_name": "Python 3 (ipykernel)",
   "language": "python",
   "name": "python3"
  },
  "language_info": {
   "codemirror_mode": {
    "name": "ipython",
    "version": 3
   },
   "file_extension": ".py",
   "mimetype": "text/x-python",
   "name": "python",
   "nbconvert_exporter": "python",
   "pygments_lexer": "ipython3",
   "version": "3.8.16"
  }
 },
 "nbformat": 4,
 "nbformat_minor": 5
}
